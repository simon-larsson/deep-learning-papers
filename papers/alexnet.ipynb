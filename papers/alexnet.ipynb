{
 "cells": [
  {
   "cell_type": "markdown",
   "metadata": {},
   "source": [
    "# AlexNet\n",
    "\n",
    "Paper: [ImageNet Classification with Deep Convolutional Neural Networks - Krizhevsky et al](https://papers.nips.cc/paper/4824-imagenet-classification-with-deep-convolutional-neural-networks.pdf)\n",
    "\n",
    "![arcitecture](https://cdn-images-1.medium.com/max/1200/1*wzflNwJw9QkjWWvTosXhNw.png)"
   ]
  },
  {
   "cell_type": "code",
   "execution_count": 1,
   "metadata": {},
   "outputs": [
    {
     "name": "stderr",
     "output_type": "stream",
     "text": [
      "Using TensorFlow backend.\n"
     ]
    }
   ],
   "source": [
    "from keras.layers import Input, Conv2D, MaxPooling2D, Concatenate, Flatten, Dense, Dropout\n",
    "from keras.models import Model\n",
    "from keras import backend as K"
   ]
  },
  {
   "cell_type": "code",
   "execution_count": 2,
   "metadata": {},
   "outputs": [
    {
     "name": "stdout",
     "output_type": "stream",
     "text": [
      "WARNING:tensorflow:From C:\\Users\\simon.larsson\\AppData\\Local\\Continuum\\anaconda3\\envs\\datascience\\lib\\site-packages\\tensorflow\\python\\framework\\op_def_library.py:263: colocate_with (from tensorflow.python.framework.ops) is deprecated and will be removed in a future version.\n",
      "Instructions for updating:\n",
      "Colocations handled automatically by placer.\n",
      "WARNING:tensorflow:From C:\\Users\\simon.larsson\\AppData\\Local\\Continuum\\anaconda3\\envs\\datascience\\lib\\site-packages\\keras\\backend\\tensorflow_backend.py:3445: calling dropout (from tensorflow.python.ops.nn_ops) with keep_prob is deprecated and will be removed in a future version.\n",
      "Instructions for updating:\n",
      "Please use `rate` instead of `keep_prob`. Rate should be set to `rate = 1 - keep_prob`.\n"
     ]
    }
   ],
   "source": [
    "# If you read they paper they say the input size is 224x224x3\n",
    "# but this appears to be a mistake and the real shape is 227x227x3\n",
    "inputs = Input(shape=(227, 227, 3))\n",
    "\n",
    "# Separate the network into two tracks for historical purposes\n",
    "# today you would just add the second track as extra filters\n",
    "x1 = Conv2D(filters=48, kernel_size=(11, 11), strides=(4, 4), activation='relu')(inputs)\n",
    "x1 = MaxPooling2D(pool_size=(3, 3), strides=(2, 2))(x1)\n",
    "x1 = Conv2D(filters=128, kernel_size=(5, 5), padding='same', activation='relu')(x1)\n",
    "x1 = MaxPooling2D(pool_size=(3, 3), strides=(2, 2))(x1)\n",
    "\n",
    "x2 = Conv2D(filters=48, kernel_size=(11, 11), strides=(4, 4))(inputs)\n",
    "x2 = MaxPooling2D(pool_size=(3, 3), strides=(2, 2))(x2)\n",
    "x2 = Conv2D(filters=128, kernel_size=(5, 5), padding='same', activation='relu')(x2)\n",
    "x2 = MaxPooling2D(pool_size=(3, 3), strides=(2, 2))(x2)\n",
    "\n",
    "x = Concatenate(axis=-1)([x1, x2])\n",
    "\n",
    "x1 = Conv2D(filters=192, kernel_size=(3, 3), padding='same', activation='relu')(x)\n",
    "x1 = Conv2D(filters=192, kernel_size=(3, 3), padding='same', activation='relu')(x1)\n",
    "x1 = Conv2D(filters=128, kernel_size=(3, 3), padding='same', activation='relu')(x1)\n",
    "x1 = MaxPooling2D(pool_size=(3, 3), strides=(2, 2))(x1)\n",
    "x1 = Flatten()(x1)\n",
    "\n",
    "x2 = Conv2D(filters=192, kernel_size=(3, 3), padding='same', activation='relu')(x)\n",
    "x2 = Conv2D(filters=192, kernel_size=(3, 3), padding='same', activation='relu')(x2)\n",
    "x2 = Conv2D(filters=128, kernel_size=(3, 3), padding='same', activation='relu')(x2)\n",
    "x2 = MaxPooling2D(pool_size=(3, 3), strides=(2, 2))(x2)\n",
    "x2 = Flatten()(x2)\n",
    "\n",
    "x = Concatenate(axis=-1)([x1, x2])\n",
    "\n",
    "x1 = Dense(2048, activation='relu')(x)\n",
    "x2 = Dense(2048, activation='relu')(x)\n",
    "x = Concatenate(axis=-1)([x1, x2])\n",
    "x = Dropout(rate=0.5)(x)\n",
    "\n",
    "x1 = Dense(2048, activation='relu')(x)\n",
    "x2 = Dense(2048, activation='relu')(x)\n",
    "x = Concatenate(axis=-1)([x1, x2])\n",
    "x = Dropout(rate=0.5)(x)\n",
    "\n",
    "x = Dense(1000, activation='softmax')(x)\n",
    "\n",
    "alexnet = Model(inputs=inputs, outputs=x)\n",
    "alexnet.compile(optimizer='sgd', loss='categorical_crossentropy')"
   ]
  },
  {
   "cell_type": "code",
   "execution_count": 3,
   "metadata": {},
   "outputs": [
    {
     "name": "stdout",
     "output_type": "stream",
     "text": [
      "__________________________________________________________________________________________________\n",
      "Layer (type)                    Output Shape         Param #     Connected to                     \n",
      "==================================================================================================\n",
      "input_1 (InputLayer)            (None, 227, 227, 3)  0                                            \n",
      "__________________________________________________________________________________________________\n",
      "conv2d_1 (Conv2D)               (None, 55, 55, 48)   17472       input_1[0][0]                    \n",
      "__________________________________________________________________________________________________\n",
      "conv2d_3 (Conv2D)               (None, 55, 55, 48)   17472       input_1[0][0]                    \n",
      "__________________________________________________________________________________________________\n",
      "max_pooling2d_1 (MaxPooling2D)  (None, 27, 27, 48)   0           conv2d_1[0][0]                   \n",
      "__________________________________________________________________________________________________\n",
      "max_pooling2d_3 (MaxPooling2D)  (None, 27, 27, 48)   0           conv2d_3[0][0]                   \n",
      "__________________________________________________________________________________________________\n",
      "conv2d_2 (Conv2D)               (None, 27, 27, 128)  153728      max_pooling2d_1[0][0]            \n",
      "__________________________________________________________________________________________________\n",
      "conv2d_4 (Conv2D)               (None, 27, 27, 128)  153728      max_pooling2d_3[0][0]            \n",
      "__________________________________________________________________________________________________\n",
      "max_pooling2d_2 (MaxPooling2D)  (None, 13, 13, 128)  0           conv2d_2[0][0]                   \n",
      "__________________________________________________________________________________________________\n",
      "max_pooling2d_4 (MaxPooling2D)  (None, 13, 13, 128)  0           conv2d_4[0][0]                   \n",
      "__________________________________________________________________________________________________\n",
      "concatenate_1 (Concatenate)     (None, 13, 13, 256)  0           max_pooling2d_2[0][0]            \n",
      "                                                                 max_pooling2d_4[0][0]            \n",
      "__________________________________________________________________________________________________\n",
      "conv2d_5 (Conv2D)               (None, 13, 13, 192)  442560      concatenate_1[0][0]              \n",
      "__________________________________________________________________________________________________\n",
      "conv2d_8 (Conv2D)               (None, 13, 13, 192)  442560      concatenate_1[0][0]              \n",
      "__________________________________________________________________________________________________\n",
      "conv2d_6 (Conv2D)               (None, 13, 13, 192)  331968      conv2d_5[0][0]                   \n",
      "__________________________________________________________________________________________________\n",
      "conv2d_9 (Conv2D)               (None, 13, 13, 192)  331968      conv2d_8[0][0]                   \n",
      "__________________________________________________________________________________________________\n",
      "conv2d_7 (Conv2D)               (None, 13, 13, 128)  221312      conv2d_6[0][0]                   \n",
      "__________________________________________________________________________________________________\n",
      "conv2d_10 (Conv2D)              (None, 13, 13, 128)  221312      conv2d_9[0][0]                   \n",
      "__________________________________________________________________________________________________\n",
      "max_pooling2d_5 (MaxPooling2D)  (None, 6, 6, 128)    0           conv2d_7[0][0]                   \n",
      "__________________________________________________________________________________________________\n",
      "max_pooling2d_6 (MaxPooling2D)  (None, 6, 6, 128)    0           conv2d_10[0][0]                  \n",
      "__________________________________________________________________________________________________\n",
      "flatten_1 (Flatten)             (None, 4608)         0           max_pooling2d_5[0][0]            \n",
      "__________________________________________________________________________________________________\n",
      "flatten_2 (Flatten)             (None, 4608)         0           max_pooling2d_6[0][0]            \n",
      "__________________________________________________________________________________________________\n",
      "concatenate_2 (Concatenate)     (None, 9216)         0           flatten_1[0][0]                  \n",
      "                                                                 flatten_2[0][0]                  \n",
      "__________________________________________________________________________________________________\n",
      "dense_1 (Dense)                 (None, 2048)         18876416    concatenate_2[0][0]              \n",
      "__________________________________________________________________________________________________\n",
      "dense_2 (Dense)                 (None, 2048)         18876416    concatenate_2[0][0]              \n",
      "__________________________________________________________________________________________________\n",
      "concatenate_3 (Concatenate)     (None, 4096)         0           dense_1[0][0]                    \n",
      "                                                                 dense_2[0][0]                    \n",
      "__________________________________________________________________________________________________\n",
      "dropout_1 (Dropout)             (None, 4096)         0           concatenate_3[0][0]              \n",
      "__________________________________________________________________________________________________\n",
      "dense_3 (Dense)                 (None, 2048)         8390656     dropout_1[0][0]                  \n",
      "__________________________________________________________________________________________________\n",
      "dense_4 (Dense)                 (None, 2048)         8390656     dropout_1[0][0]                  \n",
      "__________________________________________________________________________________________________\n",
      "concatenate_4 (Concatenate)     (None, 4096)         0           dense_3[0][0]                    \n",
      "                                                                 dense_4[0][0]                    \n",
      "__________________________________________________________________________________________________\n",
      "dropout_2 (Dropout)             (None, 4096)         0           concatenate_4[0][0]              \n",
      "__________________________________________________________________________________________________\n",
      "dense_5 (Dense)                 (None, 1000)         4097000     dropout_2[0][0]                  \n",
      "==================================================================================================\n",
      "Total params: 60,965,224\n",
      "Trainable params: 60,965,224\n",
      "Non-trainable params: 0\n",
      "__________________________________________________________________________________________________\n"
     ]
    }
   ],
   "source": [
    "alexnet.summary()"
   ]
  },
  {
   "cell_type": "code",
   "execution_count": 4,
   "metadata": {},
   "outputs": [],
   "source": [
    "K.clear_session()\n",
    "\n",
    "inputs = Input(shape=(227, 227, 3))\n",
    "# How you would implement it today. This gets more parameters, this is due to the\n",
    "# original AlexNet skipping concatenations after some conv layers.\n",
    "x = Conv2D(filters=96, kernel_size=(11, 11), strides=(4, 4), activation='relu')(inputs)\n",
    "x = MaxPooling2D(pool_size=(3, 3), strides=(2, 2))(x)\n",
    "x = Conv2D(filters=256, kernel_size=(5, 5), padding='same', activation='relu')(x)\n",
    "x = MaxPooling2D(pool_size=(3, 3), strides=(2, 2))(x)\n",
    "\n",
    "x = Conv2D(filters=384, kernel_size=(3, 3), padding='same', activation='relu')(x)\n",
    "x = Conv2D(filters=384, kernel_size=(3, 3), padding='same', activation='relu')(x)\n",
    "x = Conv2D(filters=256, kernel_size=(3, 3), padding='same', activation='relu')(x)\n",
    "x = MaxPooling2D(pool_size=(3, 3), strides=(2, 2))(x)\n",
    "x = Flatten()(x)\n",
    "\n",
    "x = Dense(4096, activation='relu')(x)\n",
    "x = Dropout(rate=0.5)(x)\n",
    "\n",
    "x = Dense(4096, activation='relu')(x)\n",
    "x = Dropout(rate=0.5)(x)\n",
    "\n",
    "x = Dense(1000, activation='softmax')(x)\n",
    "\n",
    "alexnet = Model(inputs=inputs, outputs=x)\n",
    "alexnet.compile(optimizer='sgd', loss='categorical_crossentropy')"
   ]
  },
  {
   "cell_type": "code",
   "execution_count": 5,
   "metadata": {},
   "outputs": [
    {
     "name": "stdout",
     "output_type": "stream",
     "text": [
      "_________________________________________________________________\n",
      "Layer (type)                 Output Shape              Param #   \n",
      "=================================================================\n",
      "input_1 (InputLayer)         (None, 227, 227, 3)       0         \n",
      "_________________________________________________________________\n",
      "conv2d_1 (Conv2D)            (None, 55, 55, 96)        34944     \n",
      "_________________________________________________________________\n",
      "max_pooling2d_1 (MaxPooling2 (None, 27, 27, 96)        0         \n",
      "_________________________________________________________________\n",
      "conv2d_2 (Conv2D)            (None, 27, 27, 256)       614656    \n",
      "_________________________________________________________________\n",
      "max_pooling2d_2 (MaxPooling2 (None, 13, 13, 256)       0         \n",
      "_________________________________________________________________\n",
      "conv2d_3 (Conv2D)            (None, 13, 13, 384)       885120    \n",
      "_________________________________________________________________\n",
      "conv2d_4 (Conv2D)            (None, 13, 13, 384)       1327488   \n",
      "_________________________________________________________________\n",
      "conv2d_5 (Conv2D)            (None, 13, 13, 256)       884992    \n",
      "_________________________________________________________________\n",
      "max_pooling2d_3 (MaxPooling2 (None, 6, 6, 256)         0         \n",
      "_________________________________________________________________\n",
      "flatten_1 (Flatten)          (None, 9216)              0         \n",
      "_________________________________________________________________\n",
      "dense_1 (Dense)              (None, 4096)              37752832  \n",
      "_________________________________________________________________\n",
      "dropout_1 (Dropout)          (None, 4096)              0         \n",
      "_________________________________________________________________\n",
      "dense_2 (Dense)              (None, 4096)              16781312  \n",
      "_________________________________________________________________\n",
      "dropout_2 (Dropout)          (None, 4096)              0         \n",
      "_________________________________________________________________\n",
      "dense_3 (Dense)              (None, 1000)              4097000   \n",
      "=================================================================\n",
      "Total params: 62,378,344\n",
      "Trainable params: 62,378,344\n",
      "Non-trainable params: 0\n",
      "_________________________________________________________________\n"
     ]
    }
   ],
   "source": [
    "alexnet.summary()"
   ]
  }
 ],
 "metadata": {
  "kernelspec": {
   "display_name": "Python DS",
   "language": "python",
   "name": "datascience"
  },
  "language_info": {
   "codemirror_mode": {
    "name": "ipython",
    "version": 3
   },
   "file_extension": ".py",
   "mimetype": "text/x-python",
   "name": "python",
   "nbconvert_exporter": "python",
   "pygments_lexer": "ipython3",
   "version": "3.6.7"
  }
 },
 "nbformat": 4,
 "nbformat_minor": 2
}
